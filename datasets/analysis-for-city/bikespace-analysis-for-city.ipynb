{
 "cells": [
  {
   "cell_type": "markdown",
   "metadata": {},
   "source": [
    "## Bikespace Analysis - Damaged Bicycle Parking Reports\n",
    "\n",
    "This notebook takes user-submitted reports of damaged bicycle parking from the BikeSpace app and returns the nearest 5 or fewer City of Toronto bicycle parking features based on geographic proximity. The goal is to identify City bicycle parking that may need to be replaced or repaired.\n"
   ]
  },
  {
   "cell_type": "code",
   "execution_count": 1,
   "metadata": {},
   "outputs": [],
   "source": [
    "# imports\n",
    "from datetime import datetime\n",
    "from zoneinfo import ZoneInfo\n",
    "from pathlib import Path\n",
    "import json\n",
    "\n",
    "import contextily as cx\n",
    "import matplotlib.pyplot as plt\n",
    "import numpy as np\n",
    "import pandas as pd\n",
    "import geopandas as gpd\n",
    "import pytz\n",
    "import requests\n"
   ]
  },
  {
   "cell_type": "code",
   "execution_count": 2,
   "metadata": {},
   "outputs": [],
   "source": [
    "# OPTIONS\n",
    "search_radius = 30  # area to search, in metres\n",
    "thumbnail_folder_path = \"thumbnails\"\n",
    "output_excel_path = \"damage_bikespace_city_matches.xlsx\""
   ]
  },
  {
   "cell_type": "markdown",
   "metadata": {},
   "source": [
    "### Get Data - Bikespace Reports\n",
    "\n",
    "The [BikeSpace app](https://bikespace.ca/) allows users to report issues with bicycle parking in Toronto, including parking features that are damaged. User reports can be viewed on the [BikeSpace dashboard](https://dashboard.bikespace.ca/) or downloaded via the API.\n",
    "\n",
    "Details on the bikespace API can be found at [api-dev.bikespace.ca](https://api-dev.bikespace.ca/api/v2/docs).\n"
   ]
  },
  {
   "cell_type": "code",
   "execution_count": 3,
   "metadata": {},
   "outputs": [],
   "source": [
    "# get bikespace reports\n",
    "report_limit = 5000\n",
    "bikespace_request = requests.get(\n",
    "  \"https://api-dev.bikespace.ca/api/v2/submissions\",\n",
    "  params={\"limit\": report_limit})\n",
    "bikespace_response = json.loads(bikespace_request.text)\n",
    "bikespace_reports_data = pd.DataFrame(\n",
    "  bikespace_response['submissions']\n",
    "  ).set_index('id')"
   ]
  },
  {
   "cell_type": "code",
   "execution_count": 4,
   "metadata": {},
   "outputs": [
    {
     "data": {
      "text/plain": [
       "issues\n",
       "not_provided    513\n",
       "damaged         400\n",
       "full            359\n",
       "other           158\n",
       "abandoned        16\n",
       "Name: count, dtype: int64"
      ]
     },
     "execution_count": 4,
     "metadata": {},
     "output_type": "execute_result"
    }
   ],
   "source": [
    "# convert to geodataframe\n",
    "bikespace_reports = gpd.GeoDataFrame(bikespace_reports_data, \n",
    "  geometry=gpd.points_from_xy(\n",
    "    bikespace_reports_data['longitude'], \n",
    "    bikespace_reports_data['latitude'],\n",
    "    ),\n",
    "  crs=\"EPSG:4326\"\n",
    "  )\n",
    "\n",
    "# show a quick summary of issue types\n",
    "bikespace_reports['issues'].explode().value_counts()"
   ]
  },
  {
   "cell_type": "code",
   "execution_count": 5,
   "metadata": {},
   "outputs": [],
   "source": [
    "# improve data display for \"parking_time\" field\n",
    "bikespace_reports = bikespace_reports.assign(\n",
    "  parking_dt = lambda r: [\n",
    "    (\n",
    "      datetime.strptime(dt_string, \"%a, %d %b %Y %H:%M:%S %Z\")\n",
    "      .replace(tzinfo=ZoneInfo(\"GMT\"))\n",
    "      .astimezone(ZoneInfo(\"America/Toronto\"))\n",
    "    )\n",
    "    for dt_string\n",
    "    in r['parking_time']\n",
    "  ]\n",
    ")\n",
    "bikespace_reports = bikespace_reports.assign(\n",
    "  report_date = bikespace_reports['parking_dt'].dt.date,\n",
    "  report_time = bikespace_reports['parking_dt'].dt.time,\n",
    ")\n",
    "\n",
    "# sort by date desc\n",
    "bikespace_reports = bikespace_reports.sort_values(\n",
    "  by=\"parking_dt\", \n",
    "  axis=0, \n",
    "  ascending=False,\n",
    ")"
   ]
  },
  {
   "cell_type": "markdown",
   "metadata": {},
   "source": [
    "### BikeSpace Reports - Quality Check\n",
    "\n",
    "Source Google sheet: [BikeSpace Data Notes and Cleanup](https://docs.google.com/spreadsheets/d/137S4d4zLhj49rEWIaaVB67UxMSU5LKMt5kIjvgYsQOU/edit?usp=sharing)"
   ]
  },
  {
   "cell_type": "code",
   "execution_count": 6,
   "metadata": {},
   "outputs": [],
   "source": [
    "bs_quality_check = pd.read_csv(\n",
    "  \"BikeSpace Data Notes and Cleanup - Data.csv\"\n",
    "  ).set_index(\"id\")\n",
    "bikespace_reports = bikespace_reports.join(\n",
    "  bs_quality_check[[\"Status\", \"Notes\", \"Survey Date\"]], \n",
    "  on=\"id\", \n",
    "  how=\"left\",\n",
    ")"
   ]
  },
  {
   "cell_type": "code",
   "execution_count": 7,
   "metadata": {},
   "outputs": [],
   "source": [
    "exclude_by_status = [\n",
    "  status not in [\n",
    "    \"Resolved\", \n",
    "    \"Invalid\", \n",
    "    \"Needs Checking\", \n",
    "    \"Resolution Unclear\", \n",
    "    \"Private Property\",\n",
    "    \"Caution\",\n",
    "    ] \n",
    "  for status \n",
    "  in bikespace_reports['Status']\n",
    "]\n",
    "bikespace_reports = (\n",
    "  bikespace_reports[exclude_by_status]\n",
    "  .drop(columns=[\"Status\"])\n",
    ")"
   ]
  },
  {
   "cell_type": "code",
   "execution_count": 8,
   "metadata": {},
   "outputs": [],
   "source": [
    "# get toronto ward boundaries\n",
    "# https://open.toronto.ca/dataset/city-wards/\n",
    "toronto_wards = (\n",
    "  gpd.read_file(\"https://ckan0.cf.opendata.inter.prod-toronto.ca/dataset/5e7a8234-f805-43ac-820f-03d7c360b588/resource/737b29e0-8329-4260-b6af-21555ab24f28/download/City%20Wards%20Data.geojson\")\n",
    "  .rename(columns={\"AREA_DESC\": \"WARD\"})\n",
    ")"
   ]
  },
  {
   "cell_type": "code",
   "execution_count": 9,
   "metadata": {},
   "outputs": [],
   "source": [
    "# bikespace reports within Toronto only\n",
    "br_toronto = bikespace_reports.sjoin(\n",
    "  toronto_wards[[\"geometry\", \"WARD\"]], \n",
    "  how=\"inner\", \n",
    "  predicate=\"intersects\",\n",
    "  ).drop(\"index_right\", axis=1)"
   ]
  },
  {
   "cell_type": "markdown",
   "metadata": {},
   "source": [
    "### City Bicycle Parking Data\n",
    "\n",
    "Source datasets from [open.toronto.ca](https://open.toronto.ca/)"
   ]
  },
  {
   "cell_type": "code",
   "execution_count": 10,
   "metadata": {},
   "outputs": [],
   "source": [
    "# read source urls and other metadata from open_toronto_ca_sources.json\n",
    "city_sources_path = Path(\"open_toronto_ca_sources.json\")\n",
    "with city_sources_path.open(\"r\") as f:\n",
    "  city_sources = json.load(f)\n"
   ]
  },
  {
   "cell_type": "code",
   "execution_count": 11,
   "metadata": {},
   "outputs": [],
   "source": [
    "# get city bicycle parking data\n",
    "city_data = {}\n",
    "for source in city_sources['datasets']:\n",
    "  city_data[source['dataset_name']] = gpd.read_file(source['download_url'])\n",
    "  city_data[source['dataset_name']].insert(0, \"source\", source['dataset_name'])\n",
    "\n",
    "city_data_all = pd.concat(city_data.values())\n"
   ]
  },
  {
   "cell_type": "markdown",
   "metadata": {},
   "source": [
    "### Damage reports and closest parking feature"
   ]
  },
  {
   "cell_type": "code",
   "execution_count": 12,
   "metadata": {},
   "outputs": [],
   "source": [
    "br_toronto_damaged = br_toronto[[\"damaged\" in i for i in br_toronto['issues']]]"
   ]
  },
  {
   "cell_type": "code",
   "execution_count": 13,
   "metadata": {},
   "outputs": [],
   "source": [
    "# convert crs to allow for distance calculations in metres\n",
    "br_toronto_damaged_utm17n = br_toronto_damaged.to_crs(\"32617\")\n",
    "city_data_all_utm17n = city_data_all.to_crs(\"32617\")\n"
   ]
  },
  {
   "cell_type": "code",
   "execution_count": 14,
   "metadata": {},
   "outputs": [],
   "source": [
    "br_toronto_damaged_utm17n = br_toronto_damaged_utm17n.assign(\n",
    "  geometry_buffered = br_toronto_damaged_utm17n.buffer(search_radius)\n",
    ")\n",
    "\n",
    "data_matches = city_data_all_utm17n.sjoin(\n",
    "  df=(\n",
    "    br_toronto_damaged_utm17n[[\"geometry_buffered\"]]\n",
    "    .set_geometry(\"geometry_buffered\")\n",
    "  ),\n",
    "  how='inner',\n",
    "  predicate='intersects',\n",
    ")"
   ]
  },
  {
   "cell_type": "code",
   "execution_count": 15,
   "metadata": {},
   "outputs": [],
   "source": [
    "report_matches = gpd.GeoDataFrame(\n",
    "  [\n",
    "    br_toronto_damaged_utm17n.loc[i] \n",
    "    for i \n",
    "    in data_matches['index_right']\n",
    "  ],\n",
    "  crs=\"32617\", # UTM 17N\n",
    ")\n",
    "\n",
    "distances = data_matches['geometry'].distance(report_matches, align=False)\n",
    "data_matches = data_matches.assign(distance=distances)\n",
    "# reorder columns\n",
    "left_columns = [\n",
    "  'distance', \n",
    "  'index_right', \n",
    "  'source', \n",
    "  'ID', \n",
    "  'OBJECTID', \n",
    "  'ADDRESSNUMBERTEXT', \n",
    "  'ADDRESSSTREET', \n",
    "  'FRONTINGSTREET', \n",
    "  'SIDE', \n",
    "  'FROMSTREET', \n",
    "  'DIRECTION', \n",
    "  'SITEID', \n",
    "  'WARD', \n",
    "  'BIA', \n",
    "  'ASSETTYPE', \n",
    "  'STATUS', \n",
    "  'SDE_STATE_ID',\n",
    "]\n",
    "data_matches = data_matches[\n",
    "  left_columns + [\n",
    "    col for col in data_matches.columns \n",
    "    if col not in left_columns\n",
    "  ]\n",
    "]\n",
    "data_matches = (\n",
    "  data_matches\n",
    "  .to_crs(4326) # WGS 84\n",
    "  .explode(index_parts=False) # convert multipoint to point\n",
    "  .assign(\n",
    "    latitude=lambda r: [y for y in r.geometry.y],\n",
    "    longitude=lambda r: [x for x in r.geometry.x]\n",
    "  )\n",
    "  .drop(columns=[\"_id\"])\n",
    "  .rename(columns={\"index_right\": \"bikespace_id\"})\n",
    ")"
   ]
  },
  {
   "cell_type": "code",
   "execution_count": 16,
   "metadata": {},
   "outputs": [],
   "source": [
    "report_matches_unique = (\n",
    "  report_matches[~report_matches.index.duplicated(keep='first')]\n",
    "  .drop(columns=[\"geometry_buffered\"])\n",
    "  .sort_values(by=\"parking_dt\", axis=0, ascending=False,)\n",
    "  .assign(url=lambda x: [\n",
    "    f\"https://dashboard.bikespace.ca/#feed?view_all=1&submission_id={id}\" \n",
    "    for id \n",
    "    in x.index\n",
    "    ])\n",
    "  .to_crs(4326) # WGS 84\n",
    ")"
   ]
  },
  {
   "cell_type": "code",
   "execution_count": 17,
   "metadata": {},
   "outputs": [],
   "source": [
    "# organize BikeSpace damage reports alongside top 5 nearest city parking features\n",
    "report_city_matches = []\n",
    "\n",
    "for ix in report_matches_unique.index:\n",
    "  report_city_matches.append({\n",
    "    \"report\": report_matches_unique.loc[[ix]],\n",
    "    \"city_features\": data_matches[\n",
    "      data_matches['bikespace_id'] == ix\n",
    "      ].nsmallest(n=5, columns=\"distance\"),\n",
    "  })\n",
    "\n"
   ]
  },
  {
   "cell_type": "markdown",
   "metadata": {},
   "source": [
    "### Generate Thumbnail Maps"
   ]
  },
  {
   "cell_type": "code",
   "execution_count": 18,
   "metadata": {},
   "outputs": [],
   "source": [
    "def save_thumbnail(entry, folder):\n",
    "  \"\"\"Saves a thumbnail using geodataframe.plot() if it doesn't already exist\n",
    "  \n",
    "  returns the relative posix path to the saved thumbnail\n",
    "  \"\"\"\n",
    "  with plt.ioff(): # turn off matplotlib output\n",
    "    # get geodataframes and convert to Web mercator (unit = metres)\n",
    "    gdf_bs = entry[\"report\"].to_crs(epsg=3857)\n",
    "    gdf_city = entry[\"city_features\"].to_crs(epsg=3857)\n",
    "\n",
    "    bs_id = gdf_bs.squeeze().name\n",
    "    thumbnail_path = Path(folder) / f\"{bs_id}.jpg\"\n",
    "    if not thumbnail_path.exists():\n",
    "      # generate plots\n",
    "      ax_city = gdf_city.plot(\n",
    "        figsize=(8, 8), \n",
    "        markersize=100, \n",
    "        edgecolor=\"white\", \n",
    "        linewidth=2,\n",
    "      )\n",
    "      pad = 75 # additional metres of map to show around bounds of features\n",
    "      _x = gdf_bs.squeeze().geometry.x\n",
    "      _y = gdf_bs.squeeze().geometry.y\n",
    "      ax_city.set_xlim(_x-pad, _x+pad)\n",
    "      ax_city.set_ylim(_y-pad, _y+pad)\n",
    "      ax_bs = gdf_bs.plot(\n",
    "        figsize=(8, 8), \n",
    "        ax=ax_city, \n",
    "        marker=\"^\", # triangle\n",
    "        markersize=200,\n",
    "        edgecolor=\"white\", \n",
    "        linewidth=2,\n",
    "      )\n",
    "\n",
    "      # add basemap and remove axis labels\n",
    "      cx.add_basemap(ax_bs, crs=gdf_bs.crs, zoom=19, \n",
    "        source=cx.providers.OpenStreetMap.Mapnik\n",
    "      )\n",
    "      ax_bs.set_axis_off() # remove x and y axes from plot\n",
    "\n",
    "      # save to file\n",
    "      Path(folder).mkdir(exist_ok=True) # make folder if it doesn't exist\n",
    "      ax_bs.figure.savefig(thumbnail_path, bbox_inches=\"tight\")\n",
    "      plt.close()\n",
    "    \n",
    "    return (Path(folder) / f\"{bs_id}.jpg\").as_posix()\n"
   ]
  },
  {
   "cell_type": "code",
   "execution_count": 19,
   "metadata": {},
   "outputs": [],
   "source": [
    "for entry in report_city_matches:\n",
    "  entry[\"thumbnail\"] = save_thumbnail(entry, thumbnail_folder_path)"
   ]
  },
  {
   "cell_type": "code",
   "execution_count": 20,
   "metadata": {},
   "outputs": [],
   "source": [
    "matched_city_features_unique = pd.concat(\n",
    "  [df[\"city_features\"] for df in report_city_matches]\n",
    ")"
   ]
  },
  {
   "cell_type": "markdown",
   "metadata": {},
   "source": [
    "### Output to Excel"
   ]
  },
  {
   "cell_type": "code",
   "execution_count": 21,
   "metadata": {},
   "outputs": [],
   "source": [
    "# set up output excel sheet\n",
    "writer = pd.ExcelWriter(\n",
    "  output_excel_path, \n",
    "  engine='xlsxwriter',\n",
    ")\n",
    "workbook = writer.book\n",
    "bold = workbook.add_format({'bold': True, 'text_wrap': False})\n",
    "text_wrap = workbook.add_format({'text_wrap': True})\n",
    "no_text_wrap = workbook.add_format({'text_wrap': False})\n",
    "\n"
   ]
  },
  {
   "cell_type": "code",
   "execution_count": 22,
   "metadata": {},
   "outputs": [],
   "source": [
    "# TAB 0 - INSTRUCTIONS PAGE\n",
    "worksheet = workbook.add_worksheet('Notes')\n",
    "writer.sheets['Matches'] = worksheet\n",
    "\n",
    "content = [\n",
    "  (\"Bikespace Analysis - Damaged Bicycle Parking Reports\", bold),\n",
    "  (f\"Updated {datetime.today().strftime('%B %d %Y')}\", no_text_wrap),\n",
    "  (f\"{len(report_city_matches)} BikeSpace damage reports with nearby City bicycle parking features\", no_text_wrap),\n",
    "  (\"\"),\n",
    "  (\"NOTES\", bold),\n",
    "  (\" • Coordinate reference system for lat/long values is WGS84 (EPSG:4326)\"),\n",
    "  (\" • For any questions about this sheet, please contact bikespaceto@gmail.com\"),\n",
    "  (\"\"),\n",
    "  (\"TABS\", bold),\n",
    "  (\" • Matches: display of damaged bicycle parking reports alongside nearby City of Toronto parking features\"),\n",
    "  (f\"    City features include top 5 nearest bicycle parking features within a {search_radius}m radius\"),\n",
    "  (\"    Damage report listed first, then data from applicable City features\"),\n",
    "  (\"    Thumbnail maps: orange triangle is location of damage report\"),\n",
    "  (\"    blue dots are locations of nearest 5 City bicycle parking features\"),\n",
    "  (\" • DamageReports: data table for damaged bicycle parking reports\"),\n",
    "  (\" • CityFeatures: data table for City of Toronto parking features matched with damage reports\"),\n",
    "  (\"    (Note that the same features may be listed more than once)\"),\n",
    "  (\"\"),\n",
    "  (\"SOURCES\", bold),\n",
    "  (\"User reports of damaged bicycle parking are from the BikeSpace app (bikespace.ca)\"),\n",
    "  (\"City of Toronto bicycle parking features are from the following datasets:\"),\n",
    "  *[(\" • \" + source['dataset_title']) for source in city_sources['datasets']],\n",
    "]\n",
    "\n",
    "for i, line in enumerate(content):\n",
    "  try:\n",
    "    (text, format) = line\n",
    "  except:\n",
    "    (text) = line\n",
    "    format = None\n",
    "  worksheet.write(i, 0, text, format)\n",
    "\n",
    "worksheet.fit_to_pages(1, 0)"
   ]
  },
  {
   "cell_type": "code",
   "execution_count": 23,
   "metadata": {},
   "outputs": [],
   "source": [
    "# TAB 1 - DISPLAY OF REPORTS AND MATCHES\n",
    "worksheet = workbook.add_worksheet('Matches')\n",
    "writer.sheets['Matches'] = worksheet\n",
    "pagebreaks = []\n",
    "images = []\n",
    "\n",
    "# set column widths to 18 and format to word wrap\n",
    "worksheet.set_column(\"A:F\", 18, text_wrap) \n",
    "\n",
    "# write header content\n",
    "worksheet.write('A1', *content[0])\n",
    "worksheet.write('A2', *content[1])\n",
    "worksheet.write('A3', *content[2])\n",
    "\n",
    "# write data tables\n",
    "write_row = 4\n",
    "for pair in report_city_matches:\n",
    "  report, city_features, thumbnail = pair.values()\n",
    "  worksheet.insert_image(write_row, 0, thumbnail, \n",
    "    {\"x_scale\": 0.5, \"y_scale\": 0.5, \"object_position\": 2}\n",
    "  )\n",
    "  write_row += 15 + 1  # 15 is approx size of image, 1 is blank row\n",
    "  report = (\n",
    "    report\n",
    "    .reset_index(names=[\"id\"])\n",
    "    .drop(columns=[\"geometry\", \"parking_time\", \"parking_dt\"])\n",
    "    .T\n",
    "    .dropna(how=\"all\")\n",
    "  )\n",
    "  city_features = (\n",
    "    city_features\n",
    "    .drop(columns=[\"bikespace_id\", \"geometry\"])\n",
    "    .T\n",
    "    .replace(0, np.nan)\n",
    "    .replace(\"\", np.nan)\n",
    "    .dropna(how=\"all\")\n",
    "  )\n",
    "  report.to_excel(\n",
    "    writer, \n",
    "    sheet_name='Matches', \n",
    "    startrow=write_row, \n",
    "    startcol=0,\n",
    "    header=False,\n",
    "  )\n",
    "  write_row += len(report) + 1\n",
    "  city_features.to_excel(\n",
    "    writer, \n",
    "    sheet_name='Matches', \n",
    "    startrow=write_row, \n",
    "    startcol=0,\n",
    "    header=False,\n",
    "  )\n",
    "  write_row += len(city_features) + 2\n",
    "  pagebreaks.append(write_row)\n",
    "  \n",
    "\n",
    "# print formatting\n",
    "worksheet.set_h_pagebreaks(pagebreaks[0:-1])\n",
    "worksheet.print_area(0, 0, write_row, 5)\n",
    "worksheet.fit_to_pages(1, 0)  # fit to one column"
   ]
  },
  {
   "cell_type": "code",
   "execution_count": 24,
   "metadata": {},
   "outputs": [
    {
     "data": {
      "text/plain": [
       "0"
      ]
     },
     "execution_count": 24,
     "metadata": {},
     "output_type": "execute_result"
    }
   ],
   "source": [
    "# TAB 2 - BIKESPACE REPORTS\n",
    "worksheet = workbook.add_worksheet('DamageReports')\n",
    "writer.sheets['DamageReports'] = worksheet\n",
    "\n",
    "# write header content\n",
    "worksheet.write('A1', \"Damaged Bicycle Parking Reports\", bold)\n",
    "damage_reports = (\n",
    "  report_matches_unique\n",
    "  .drop(columns=[\"geometry\", \"parking_time\", \"parking_dt\"])\n",
    "  .reset_index()\n",
    "  )\n",
    "damage_reports.to_excel(\n",
    "    writer, \n",
    "    sheet_name='DamageReports', \n",
    "    startrow=2, \n",
    "    startcol=0,\n",
    "    header=True,\n",
    "    index=False,\n",
    ")\n",
    "\n",
    "# formatting\n",
    "(max_row, max_col) = damage_reports.shape\n",
    "column_settings = [{\"header\": column} for column in damage_reports.columns]\n",
    "worksheet.add_table(2, 0, max_row + 2, max_col - 1, {\n",
    "  \"name\": \"T_DamageReports\",\n",
    "  \"columns\": column_settings,\n",
    "  \"style\": \"Table Style Light 8\",\n",
    "})\n",
    "\n",
    "worksheet.set_column(0, max_col, 15, text_wrap)\n",
    "worksheet.set_column(\"B:B\", 40, text_wrap)\n",
    "worksheet.set_column(\"H:I\", 20, text_wrap)\n"
   ]
  },
  {
   "cell_type": "code",
   "execution_count": 25,
   "metadata": {},
   "outputs": [
    {
     "data": {
      "text/plain": [
       "0"
      ]
     },
     "execution_count": 25,
     "metadata": {},
     "output_type": "execute_result"
    }
   ],
   "source": [
    "# TAB 3 - MATCHED CITY BICYCLE PARKING FEATURES\n",
    "worksheet = workbook.add_worksheet('CityFeatures')\n",
    "writer.sheets['CityFeatures'] = worksheet\n",
    "# write header content\n",
    "worksheet.write('A1', \"Matched City Bicycle Parking Features\", bold)\n",
    "city_features_output = (\n",
    "  matched_city_features_unique\n",
    "  .drop(columns=[\"geometry\"])\n",
    "  .replace(0, np.nan)\n",
    "  .replace(\"\", np.nan)\n",
    "  .dropna(axis=1, how=\"all\")\n",
    ")\n",
    "city_features_output.to_excel(\n",
    "    writer, \n",
    "    sheet_name='CityFeatures', \n",
    "    startrow=2, \n",
    "    startcol=0,\n",
    "    header=True,\n",
    "    index=False,\n",
    ")\n",
    "\n",
    "# formatting\n",
    "(max_row, max_col) = city_features_output.shape\n",
    "column_settings = [\n",
    "  {\"header\": column} \n",
    "  for column \n",
    "  in city_features_output.columns\n",
    "]\n",
    "worksheet.add_table(2, 0, max_row + 2, max_col - 1, {\n",
    "  \"name\": \"T_CityFeatures\",\n",
    "  \"columns\": column_settings,\n",
    "  \"style\": \"Table Style Light 8\",\n",
    "})\n",
    "\n",
    "worksheet.set_column(0, max_col, 15, text_wrap)"
   ]
  },
  {
   "cell_type": "code",
   "execution_count": 26,
   "metadata": {},
   "outputs": [],
   "source": [
    "workbook.close()"
   ]
  }
 ],
 "metadata": {
  "kernelspec": {
   "display_name": "base",
   "language": "python",
   "name": "python3"
  },
  "language_info": {
   "codemirror_mode": {
    "name": "ipython",
    "version": 3
   },
   "file_extension": ".py",
   "mimetype": "text/x-python",
   "name": "python",
   "nbconvert_exporter": "python",
   "pygments_lexer": "ipython3",
   "version": "3.11.5"
  }
 },
 "nbformat": 4,
 "nbformat_minor": 2
}
